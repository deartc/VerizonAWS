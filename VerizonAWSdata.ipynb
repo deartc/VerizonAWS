{
  "nbformat": 4,
  "nbformat_minor": 0,
  "metadata": {
    "colab": {
      "name": "VerizonAWSdata.ipynb",
      "provenance": [],
      "collapsed_sections": [],
      "include_colab_link": true
    },
    "kernelspec": {
      "name": "python3",
      "display_name": "Python 3"
    }
  },
  "cells": [
    {
      "cell_type": "markdown",
      "metadata": {
        "id": "view-in-github",
        "colab_type": "text"
      },
      "source": [
        "<a href=\"https://colab.research.google.com/github/deartc/VerizonAWS/blob/main/VerizonAWSdata.ipynb\" target=\"_parent\"><img src=\"https://colab.research.google.com/assets/colab-badge.svg\" alt=\"Open In Colab\"/></a>"
      ]
    },
    {
      "cell_type": "markdown",
      "source": [
        "**Please make a copy of this notebook before using it. Go to Files > Save a Copy in Drive**"
      ],
      "metadata": {
        "id": "v5UNFw0fwNaC"
      }
    },
    {
      "cell_type": "markdown",
      "metadata": {
        "id": "iMQkvbrS0zqS"
      },
      "source": [
        "## **Importing necessary libraries**"
      ]
    },
    {
      "cell_type": "code",
      "metadata": {
        "id": "BdubHytdzwoi"
      },
      "source": [
        "#Data Manipulation\n",
        "import pandas as pd\n",
        "\n",
        "#Plotting\n",
        "import seaborn as sns\n",
        "import matplotlib.pyplot as plt\n",
        "\n",
        "#Importing Dataset\n",
        "from sklearn import datasets\n",
        "\n",
        "\n",
        "# import datetime and format date for current date and future date to meet criteria\n",
        "import datetime\n",
        "# import re for regular expressions\n",
        "import re\n",
        "\n",
        "\n"
      ],
      "execution_count": 92,
      "outputs": []
    },
    {
      "cell_type": "code",
      "execution_count": 93,
      "metadata": {
        "colab": {
          "base_uri": "https://localhost:8080/"
        },
        "id": "x-Za9OsVOBh8",
        "outputId": "f4dc31b6-a74f-435d-8a06-137bcce9fb88"
      },
      "outputs": [
        {
          "output_type": "stream",
          "name": "stdout",
          "text": [
            "['teresalynnhawkins@gmail.com', 'ExerciseTogether@google.com']\n",
            "Fitness Start Date: 06-Apr-2022\n",
            "Difference between Fitness Start Date and KY Marathon:  78 days, 10:04:20\n",
            "lower calorie exercises {'walk': 100, 'hike': 110, 'stroll': 80, 'pilates': 90, 'stretching': 100, 'yoga': 90}\n",
            "higher calorie exercises {'football': 200, 'basketball': 130, 'soccer': 200, 'tennis': 100, 'squash': 140, 'running': 160, 'badminton': 100, 'hike': 110}\n",
            "Exercises that  are intermediate calorie burners  {'hike': 110}\n",
            "This is the students exercising together and their data\n"
          ]
        }
      ],
      "source": [
        "\n",
        "\n",
        "\n",
        "\n",
        "# extract emails from String By Regular Expression\n",
        "\n",
        "s = \"\"\" Group fitness class information email teresalynnhawkins@gmail.com\n",
        "         and the website ExerciseTogether@google.com\"\"\"\n",
        "\n",
        "# \\S matches any non-whitespace,@ for as in the Email\n",
        "# + for Repeats a character one or more times\n",
        "Contact = re.findall('\\S+@\\S+', s)\n",
        "print(Contact)\n",
        "# code for  datetime and format date for current date and future date to meet criteria\n",
        "Current_Date_Formatted = datetime.datetime.today().strftime('%d-%b-%Y')\n",
        "print('Fitness Start Date: ' + str(Current_Date_Formatted))\n",
        "\n",
        "# datetime(year, month, day, hour, minute, second)\n",
        "a = datetime.datetime(2022, 4, 22, 18, 25, 30)\n",
        "b = datetime.datetime(2022, 2, 3, 8, 21, 10)\n",
        "\n",
        "# returns the Time difference in days\n",
        "c = a - b\n",
        "print('Difference between Fitness Start Date and KY Marathon: ', c)\n",
        "\n",
        "\n",
        "#this is the dictionary of certain exercises and calories burned\n",
        "\n",
        "dict1 = {'walk': 100, 'hike': 110, 'stroll': 80,\n",
        "         'pilates': 90, 'stretching': 100, 'yoga': 90}\n",
        "dict2 = {'football': 200, 'basketball': 130, 'soccer': 200, 'tennis': 100, 'squash': 140, 'running': 160,\n",
        "         'badminton': 100, 'hike': 110}\n",
        "result = {}\n",
        "\n",
        "print(\"lower calorie exercises\", dict1)\n",
        "print(\"higher calorie exercises\", dict2)\n",
        "\n",
        "# intersect dictionaries\n",
        "# Create a new dictionary which is the intersection of two dictionaries.\n",
        "# Both key & value must match\n",
        "\n",
        "# calorie count intersection\n",
        "for key in dict1:\n",
        "    if key in dict2 and dict1[key] == dict2[key]:\n",
        "        result[key] = dict1[key]\n",
        "\n",
        "print(\"Exercises that  are intermediate calorie burners\"\n",
        "      \" \", result)\n",
        "\n",
        "\n",
        "\n",
        "\n",
        "\n",
        "      \n",
        "\n",
        "#  print This is the students exercising together and their data\n",
        "\n",
        "print(\"This is the students exercising together and their data\")"
      ]
    },
    {
      "cell_type": "markdown",
      "source": [
        "PROCESSING DATA"
      ],
      "metadata": {
        "id": "WRdpnt4Uq7K2"
      }
    },
    {
      "cell_type": "code",
      "execution_count": 94,
      "metadata": {
        "colab": {
          "base_uri": "https://localhost:8080/"
        },
        "id": "XYlq124fNaMi",
        "outputId": "ca3e1368-8dd1-4cc2-ef26-e7fa62d0be55"
      },
      "outputs": [
        {
          "output_type": "stream",
          "name": "stdout",
          "text": [
            "  Internet Service Type  MonthlyCharges   Total Customers\n",
            "0                   DSL          $58.10              2421\n",
            "1           Fiber optic          $91.50              3096\n",
            "2                    No          $21.08              1526\n",
            "  Internet Service Type  MonthlyCharges   Total Customers\n",
            "0                   DSL          $58.10              2421\n",
            "1           Fiber optic          $91.50              3096\n",
            "2                    No          $21.08              1526\n",
            "<class 'pandas.core.frame.DataFrame'>\n",
            "RangeIndex: 3 entries, 0 to 2\n",
            "Data columns (total 3 columns):\n",
            " #   Column                 Non-Null Count  Dtype \n",
            "---  ------                 --------------  ----- \n",
            " 0   Internet Service Type  3 non-null      object\n",
            " 1    MonthlyCharges        3 non-null      object\n",
            " 2   Total Customers        3 non-null      int64 \n",
            "dtypes: int64(1), object(2)\n",
            "memory usage: 200.0+ bytes\n",
            "None\n"
          ]
        }
      ],
      "source": [
        "# print all raw unclean data \n",
        "\n",
        "\n",
        "pd.options.display.max_rows = 400\n",
        "\n",
        "df = pd.read_csv('https://raw.githubusercontent.com/deartc/VerizonAWS/main/decreaseddata.csv')\n",
        "\n",
        "print(df) \n",
        "\n",
        "\n",
        "\n",
        "# print \n",
        "import pandas as pd\n",
        "\n",
        "df = pd.read_csv('https://raw.githubusercontent.com/deartc/VerizonAWS/main/decreaseddata.csv')\n",
        "\n",
        "print(df.head())\n",
        "\n",
        "\n",
        "\n",
        "\n",
        "#print info\n",
        "print(df.info()) \n"
      ]
    },
    {
      "cell_type": "code",
      "source": [
        "#Number of null values per column\n",
        "df.isnull().sum()"
      ],
      "metadata": {
        "colab": {
          "base_uri": "https://localhost:8080/"
        },
        "id": "WtjKVM2p1cKo",
        "outputId": "3b3a6b0c-fa48-4cf1-eaa9-a3074f3f17ac"
      },
      "execution_count": 95,
      "outputs": [
        {
          "output_type": "execute_result",
          "data": {
            "text/plain": [
              "Internet Service Type    0\n",
              " MonthlyCharges          0\n",
              "Total Customers          0\n",
              "dtype: int64"
            ]
          },
          "metadata": {},
          "execution_count": 95
        }
      ]
    },
    {
      "cell_type": "code",
      "source": [
        "#Read the data and display the first five elements\n",
        "\n",
        "df = pd.read_csv('https://raw.githubusercontent.com/deartc/VerizonAWS/main/decreaseddata.csv')\n",
        "df.head()"
      ],
      "metadata": {
        "colab": {
          "base_uri": "https://localhost:8080/",
          "height": 153
        },
        "id": "9TZ9jEZNqSxA",
        "outputId": "e28ea83a-b636-46e5-9001-1a13e4d273f9"
      },
      "execution_count": 96,
      "outputs": [
        {
          "output_type": "execute_result",
          "data": {
            "text/plain": [
              "  Internet Service Type  MonthlyCharges   Total Customers\n",
              "0                   DSL          $58.10              2421\n",
              "1           Fiber optic          $91.50              3096\n",
              "2                    No          $21.08              1526"
            ],
            "text/html": [
              "\n",
              "  <div id=\"df-f150d11d-0473-4dd4-8e73-208e0660319a\">\n",
              "    <div class=\"colab-df-container\">\n",
              "      <div>\n",
              "<style scoped>\n",
              "    .dataframe tbody tr th:only-of-type {\n",
              "        vertical-align: middle;\n",
              "    }\n",
              "\n",
              "    .dataframe tbody tr th {\n",
              "        vertical-align: top;\n",
              "    }\n",
              "\n",
              "    .dataframe thead th {\n",
              "        text-align: right;\n",
              "    }\n",
              "</style>\n",
              "<table border=\"1\" class=\"dataframe\">\n",
              "  <thead>\n",
              "    <tr style=\"text-align: right;\">\n",
              "      <th></th>\n",
              "      <th>Internet Service Type</th>\n",
              "      <th>MonthlyCharges</th>\n",
              "      <th>Total Customers</th>\n",
              "    </tr>\n",
              "  </thead>\n",
              "  <tbody>\n",
              "    <tr>\n",
              "      <th>0</th>\n",
              "      <td>DSL</td>\n",
              "      <td>$58.10</td>\n",
              "      <td>2421</td>\n",
              "    </tr>\n",
              "    <tr>\n",
              "      <th>1</th>\n",
              "      <td>Fiber optic</td>\n",
              "      <td>$91.50</td>\n",
              "      <td>3096</td>\n",
              "    </tr>\n",
              "    <tr>\n",
              "      <th>2</th>\n",
              "      <td>No</td>\n",
              "      <td>$21.08</td>\n",
              "      <td>1526</td>\n",
              "    </tr>\n",
              "  </tbody>\n",
              "</table>\n",
              "</div>\n",
              "      <button class=\"colab-df-convert\" onclick=\"convertToInteractive('df-f150d11d-0473-4dd4-8e73-208e0660319a')\"\n",
              "              title=\"Convert this dataframe to an interactive table.\"\n",
              "              style=\"display:none;\">\n",
              "        \n",
              "  <svg xmlns=\"http://www.w3.org/2000/svg\" height=\"24px\"viewBox=\"0 0 24 24\"\n",
              "       width=\"24px\">\n",
              "    <path d=\"M0 0h24v24H0V0z\" fill=\"none\"/>\n",
              "    <path d=\"M18.56 5.44l.94 2.06.94-2.06 2.06-.94-2.06-.94-.94-2.06-.94 2.06-2.06.94zm-11 1L8.5 8.5l.94-2.06 2.06-.94-2.06-.94L8.5 2.5l-.94 2.06-2.06.94zm10 10l.94 2.06.94-2.06 2.06-.94-2.06-.94-.94-2.06-.94 2.06-2.06.94z\"/><path d=\"M17.41 7.96l-1.37-1.37c-.4-.4-.92-.59-1.43-.59-.52 0-1.04.2-1.43.59L10.3 9.45l-7.72 7.72c-.78.78-.78 2.05 0 2.83L4 21.41c.39.39.9.59 1.41.59.51 0 1.02-.2 1.41-.59l7.78-7.78 2.81-2.81c.8-.78.8-2.07 0-2.86zM5.41 20L4 18.59l7.72-7.72 1.47 1.35L5.41 20z\"/>\n",
              "  </svg>\n",
              "      </button>\n",
              "      \n",
              "  <style>\n",
              "    .colab-df-container {\n",
              "      display:flex;\n",
              "      flex-wrap:wrap;\n",
              "      gap: 12px;\n",
              "    }\n",
              "\n",
              "    .colab-df-convert {\n",
              "      background-color: #E8F0FE;\n",
              "      border: none;\n",
              "      border-radius: 50%;\n",
              "      cursor: pointer;\n",
              "      display: none;\n",
              "      fill: #1967D2;\n",
              "      height: 32px;\n",
              "      padding: 0 0 0 0;\n",
              "      width: 32px;\n",
              "    }\n",
              "\n",
              "    .colab-df-convert:hover {\n",
              "      background-color: #E2EBFA;\n",
              "      box-shadow: 0px 1px 2px rgba(60, 64, 67, 0.3), 0px 1px 3px 1px rgba(60, 64, 67, 0.15);\n",
              "      fill: #174EA6;\n",
              "    }\n",
              "\n",
              "    [theme=dark] .colab-df-convert {\n",
              "      background-color: #3B4455;\n",
              "      fill: #D2E3FC;\n",
              "    }\n",
              "\n",
              "    [theme=dark] .colab-df-convert:hover {\n",
              "      background-color: #434B5C;\n",
              "      box-shadow: 0px 1px 3px 1px rgba(0, 0, 0, 0.15);\n",
              "      filter: drop-shadow(0px 1px 2px rgba(0, 0, 0, 0.3));\n",
              "      fill: #FFFFFF;\n",
              "    }\n",
              "  </style>\n",
              "\n",
              "      <script>\n",
              "        const buttonEl =\n",
              "          document.querySelector('#df-f150d11d-0473-4dd4-8e73-208e0660319a button.colab-df-convert');\n",
              "        buttonEl.style.display =\n",
              "          google.colab.kernel.accessAllowed ? 'block' : 'none';\n",
              "\n",
              "        async function convertToInteractive(key) {\n",
              "          const element = document.querySelector('#df-f150d11d-0473-4dd4-8e73-208e0660319a');\n",
              "          const dataTable =\n",
              "            await google.colab.kernel.invokeFunction('convertToInteractive',\n",
              "                                                     [key], {});\n",
              "          if (!dataTable) return;\n",
              "\n",
              "          const docLinkHtml = 'Like what you see? Visit the ' +\n",
              "            '<a target=\"_blank\" href=https://colab.research.google.com/notebooks/data_table.ipynb>data table notebook</a>'\n",
              "            + ' to learn more about interactive tables.';\n",
              "          element.innerHTML = '';\n",
              "          dataTable['output_type'] = 'display_data';\n",
              "          await google.colab.output.renderOutput(dataTable, element);\n",
              "          const docLink = document.createElement('div');\n",
              "          docLink.innerHTML = docLinkHtml;\n",
              "          element.appendChild(docLink);\n",
              "        }\n",
              "      </script>\n",
              "    </div>\n",
              "  </div>\n",
              "  "
            ],
            "application/vnd.google.colaboratory.module+javascript": "\n      import \"https://ssl.gstatic.com/colaboratory/data_table/81f25a011006ed3d/data_table.js\";\n\n      window.createDataTable({\n        data: [[{\n            'v': 0,\n            'f': \"0\",\n        },\n\"DSL\",\n\" $58.10 \",\n{\n            'v': 2421,\n            'f': \"2421\",\n        }],\n [{\n            'v': 1,\n            'f': \"1\",\n        },\n\"Fiber optic\",\n\" $91.50 \",\n{\n            'v': 3096,\n            'f': \"3096\",\n        }],\n [{\n            'v': 2,\n            'f': \"2\",\n        },\n\"No\",\n\" $21.08 \",\n{\n            'v': 1526,\n            'f': \"1526\",\n        }]],\n        columns: [[\"number\", \"index\"], [\"string\", \"Internet Service Type\"], [\"string\", \" MonthlyCharges \"], [\"number\", \"Total Customers\"]],\n        columnOptions: [{\"width\": \"1px\", \"className\": \"index_column\"}],\n        rowsPerPage: 25,\n        helpUrl: \"https://colab.research.google.com/notebooks/data_table.ipynb\",\n        suppressOutputScrolling: true,\n        minimumWidth: undefined,\n      });\n    "
          },
          "metadata": {},
          "execution_count": 96
        }
      ]
    },
    {
      "cell_type": "code",
      "execution_count": 97,
      "metadata": {
        "colab": {
          "base_uri": "https://localhost:8080/"
        },
        "id": "NONTClpQAhZZ",
        "outputId": "c80f64ec-1c38-4391-dce7-57658b22bc05"
      },
      "outputs": [
        {
          "output_type": "stream",
          "name": "stdout",
          "text": [
            "<class 'pandas.core.frame.DataFrame'>\n",
            "RangeIndex: 3 entries, 0 to 2\n",
            "Data columns (total 3 columns):\n",
            " #   Column                 Non-Null Count  Dtype \n",
            "---  ------                 --------------  ----- \n",
            " 0   Internet Service Type  3 non-null      object\n",
            " 1    MonthlyCharges        3 non-null      object\n",
            " 2   Total Customers        3 non-null      int64 \n",
            "dtypes: int64(1), object(2)\n",
            "memory usage: 200.0+ bytes\n",
            "None\n"
          ]
        }
      ],
      "source": [
        "#print info\n",
        "print(df.info()) \n",
        "\n",
        "\n",
        "\n"
      ]
    },
    {
      "cell_type": "code",
      "execution_count": 98,
      "metadata": {
        "colab": {
          "base_uri": "https://localhost:8080/"
        },
        "id": "8vVJrXPlAhf4",
        "outputId": "810d3ed5-a64f-4e00-9369-aad7516d3f55"
      },
      "outputs": [
        {
          "output_type": "stream",
          "name": "stdout",
          "text": [
            "  Internet Service Type  MonthlyCharges   Total Customers\n",
            "0                   DSL          $58.10              2421\n",
            "1           Fiber optic          $91.50              3096\n",
            "2                    No          $21.08              1526\n"
          ]
        }
      ],
      "source": [
        "#print datasetframe no na to meet project requirement to  show clean data\n",
        "\n",
        "\n",
        "df = pd.read_csv('https://raw.githubusercontent.com/deartc/VerizonAWS/main/decreaseddata.csv')\n",
        "\n",
        "new_df = df.dropna()\n",
        "\n",
        "print(new_df.to_string())\n",
        "\n",
        "\n",
        "\n"
      ]
    },
    {
      "cell_type": "code",
      "metadata": {
        "id": "YGKf-nWe3dQl",
        "colab": {
          "base_uri": "https://localhost:8080/",
          "height": 153
        },
        "outputId": "a5976f13-8d15-4370-b189-b66f0adb08b7"
      },
      "source": [
        "#The last 3 elements of the dataset\n",
        "df.tail()"
      ],
      "execution_count": 99,
      "outputs": [
        {
          "output_type": "execute_result",
          "data": {
            "text/plain": [
              "  Internet Service Type  MonthlyCharges   Total Customers\n",
              "0                   DSL          $58.10              2421\n",
              "1           Fiber optic          $91.50              3096\n",
              "2                    No          $21.08              1526"
            ],
            "text/html": [
              "\n",
              "  <div id=\"df-b95e8db2-e694-4d73-9765-f1e031b25a21\">\n",
              "    <div class=\"colab-df-container\">\n",
              "      <div>\n",
              "<style scoped>\n",
              "    .dataframe tbody tr th:only-of-type {\n",
              "        vertical-align: middle;\n",
              "    }\n",
              "\n",
              "    .dataframe tbody tr th {\n",
              "        vertical-align: top;\n",
              "    }\n",
              "\n",
              "    .dataframe thead th {\n",
              "        text-align: right;\n",
              "    }\n",
              "</style>\n",
              "<table border=\"1\" class=\"dataframe\">\n",
              "  <thead>\n",
              "    <tr style=\"text-align: right;\">\n",
              "      <th></th>\n",
              "      <th>Internet Service Type</th>\n",
              "      <th>MonthlyCharges</th>\n",
              "      <th>Total Customers</th>\n",
              "    </tr>\n",
              "  </thead>\n",
              "  <tbody>\n",
              "    <tr>\n",
              "      <th>0</th>\n",
              "      <td>DSL</td>\n",
              "      <td>$58.10</td>\n",
              "      <td>2421</td>\n",
              "    </tr>\n",
              "    <tr>\n",
              "      <th>1</th>\n",
              "      <td>Fiber optic</td>\n",
              "      <td>$91.50</td>\n",
              "      <td>3096</td>\n",
              "    </tr>\n",
              "    <tr>\n",
              "      <th>2</th>\n",
              "      <td>No</td>\n",
              "      <td>$21.08</td>\n",
              "      <td>1526</td>\n",
              "    </tr>\n",
              "  </tbody>\n",
              "</table>\n",
              "</div>\n",
              "      <button class=\"colab-df-convert\" onclick=\"convertToInteractive('df-b95e8db2-e694-4d73-9765-f1e031b25a21')\"\n",
              "              title=\"Convert this dataframe to an interactive table.\"\n",
              "              style=\"display:none;\">\n",
              "        \n",
              "  <svg xmlns=\"http://www.w3.org/2000/svg\" height=\"24px\"viewBox=\"0 0 24 24\"\n",
              "       width=\"24px\">\n",
              "    <path d=\"M0 0h24v24H0V0z\" fill=\"none\"/>\n",
              "    <path d=\"M18.56 5.44l.94 2.06.94-2.06 2.06-.94-2.06-.94-.94-2.06-.94 2.06-2.06.94zm-11 1L8.5 8.5l.94-2.06 2.06-.94-2.06-.94L8.5 2.5l-.94 2.06-2.06.94zm10 10l.94 2.06.94-2.06 2.06-.94-2.06-.94-.94-2.06-.94 2.06-2.06.94z\"/><path d=\"M17.41 7.96l-1.37-1.37c-.4-.4-.92-.59-1.43-.59-.52 0-1.04.2-1.43.59L10.3 9.45l-7.72 7.72c-.78.78-.78 2.05 0 2.83L4 21.41c.39.39.9.59 1.41.59.51 0 1.02-.2 1.41-.59l7.78-7.78 2.81-2.81c.8-.78.8-2.07 0-2.86zM5.41 20L4 18.59l7.72-7.72 1.47 1.35L5.41 20z\"/>\n",
              "  </svg>\n",
              "      </button>\n",
              "      \n",
              "  <style>\n",
              "    .colab-df-container {\n",
              "      display:flex;\n",
              "      flex-wrap:wrap;\n",
              "      gap: 12px;\n",
              "    }\n",
              "\n",
              "    .colab-df-convert {\n",
              "      background-color: #E8F0FE;\n",
              "      border: none;\n",
              "      border-radius: 50%;\n",
              "      cursor: pointer;\n",
              "      display: none;\n",
              "      fill: #1967D2;\n",
              "      height: 32px;\n",
              "      padding: 0 0 0 0;\n",
              "      width: 32px;\n",
              "    }\n",
              "\n",
              "    .colab-df-convert:hover {\n",
              "      background-color: #E2EBFA;\n",
              "      box-shadow: 0px 1px 2px rgba(60, 64, 67, 0.3), 0px 1px 3px 1px rgba(60, 64, 67, 0.15);\n",
              "      fill: #174EA6;\n",
              "    }\n",
              "\n",
              "    [theme=dark] .colab-df-convert {\n",
              "      background-color: #3B4455;\n",
              "      fill: #D2E3FC;\n",
              "    }\n",
              "\n",
              "    [theme=dark] .colab-df-convert:hover {\n",
              "      background-color: #434B5C;\n",
              "      box-shadow: 0px 1px 3px 1px rgba(0, 0, 0, 0.15);\n",
              "      filter: drop-shadow(0px 1px 2px rgba(0, 0, 0, 0.3));\n",
              "      fill: #FFFFFF;\n",
              "    }\n",
              "  </style>\n",
              "\n",
              "      <script>\n",
              "        const buttonEl =\n",
              "          document.querySelector('#df-b95e8db2-e694-4d73-9765-f1e031b25a21 button.colab-df-convert');\n",
              "        buttonEl.style.display =\n",
              "          google.colab.kernel.accessAllowed ? 'block' : 'none';\n",
              "\n",
              "        async function convertToInteractive(key) {\n",
              "          const element = document.querySelector('#df-b95e8db2-e694-4d73-9765-f1e031b25a21');\n",
              "          const dataTable =\n",
              "            await google.colab.kernel.invokeFunction('convertToInteractive',\n",
              "                                                     [key], {});\n",
              "          if (!dataTable) return;\n",
              "\n",
              "          const docLinkHtml = 'Like what you see? Visit the ' +\n",
              "            '<a target=\"_blank\" href=https://colab.research.google.com/notebooks/data_table.ipynb>data table notebook</a>'\n",
              "            + ' to learn more about interactive tables.';\n",
              "          element.innerHTML = '';\n",
              "          dataTable['output_type'] = 'display_data';\n",
              "          await google.colab.output.renderOutput(dataTable, element);\n",
              "          const docLink = document.createElement('div');\n",
              "          docLink.innerHTML = docLinkHtml;\n",
              "          element.appendChild(docLink);\n",
              "        }\n",
              "      </script>\n",
              "    </div>\n",
              "  </div>\n",
              "  "
            ],
            "application/vnd.google.colaboratory.module+javascript": "\n      import \"https://ssl.gstatic.com/colaboratory/data_table/81f25a011006ed3d/data_table.js\";\n\n      window.createDataTable({\n        data: [[{\n            'v': 0,\n            'f': \"0\",\n        },\n\"DSL\",\n\" $58.10 \",\n{\n            'v': 2421,\n            'f': \"2421\",\n        }],\n [{\n            'v': 1,\n            'f': \"1\",\n        },\n\"Fiber optic\",\n\" $91.50 \",\n{\n            'v': 3096,\n            'f': \"3096\",\n        }],\n [{\n            'v': 2,\n            'f': \"2\",\n        },\n\"No\",\n\" $21.08 \",\n{\n            'v': 1526,\n            'f': \"1526\",\n        }]],\n        columns: [[\"number\", \"index\"], [\"string\", \"Internet Service Type\"], [\"string\", \" MonthlyCharges \"], [\"number\", \"Total Customers\"]],\n        columnOptions: [{\"width\": \"1px\", \"className\": \"index_column\"}],\n        rowsPerPage: 25,\n        helpUrl: \"https://colab.research.google.com/notebooks/data_table.ipynb\",\n        suppressOutputScrolling: true,\n        minimumWidth: undefined,\n      });\n    "
          },
          "metadata": {},
          "execution_count": 99
        }
      ]
    },
    {
      "cell_type": "code",
      "metadata": {
        "id": "atE1kVw71ccr",
        "colab": {
          "base_uri": "https://localhost:8080/"
        },
        "outputId": "fc2086ff-66d5-4f27-a86a-ccafac088621"
      },
      "source": [
        "#Information about the dataset\n",
        "df.info()"
      ],
      "execution_count": 100,
      "outputs": [
        {
          "output_type": "stream",
          "name": "stdout",
          "text": [
            "<class 'pandas.core.frame.DataFrame'>\n",
            "RangeIndex: 3 entries, 0 to 2\n",
            "Data columns (total 3 columns):\n",
            " #   Column                 Non-Null Count  Dtype \n",
            "---  ------                 --------------  ----- \n",
            " 0   Internet Service Type  3 non-null      object\n",
            " 1    MonthlyCharges        3 non-null      object\n",
            " 2   Total Customers        3 non-null      int64 \n",
            "dtypes: int64(1), object(2)\n",
            "memory usage: 200.0+ bytes\n"
          ]
        }
      ]
    },
    {
      "cell_type": "code",
      "metadata": {
        "id": "S9K1jR5k31M5",
        "colab": {
          "base_uri": "https://localhost:8080/",
          "height": 261
        },
        "outputId": "65af4bb9-6f5f-4c3e-a0e3-6a636b22c30c"
      },
      "source": [
        "#Statistical Description of the Dataset\n",
        "df.describe()"
      ],
      "execution_count": 101,
      "outputs": [
        {
          "output_type": "execute_result",
          "data": {
            "text/plain": [
              "       Total Customers\n",
              "count         3.000000\n",
              "mean       2347.666667\n",
              "std         787.564812\n",
              "min        1526.000000\n",
              "25%        1973.500000\n",
              "50%        2421.000000\n",
              "75%        2758.500000\n",
              "max        3096.000000"
            ],
            "text/html": [
              "\n",
              "  <div id=\"df-d1ceb837-06b2-4fd1-b041-fd29be1a0df0\">\n",
              "    <div class=\"colab-df-container\">\n",
              "      <div>\n",
              "<style scoped>\n",
              "    .dataframe tbody tr th:only-of-type {\n",
              "        vertical-align: middle;\n",
              "    }\n",
              "\n",
              "    .dataframe tbody tr th {\n",
              "        vertical-align: top;\n",
              "    }\n",
              "\n",
              "    .dataframe thead th {\n",
              "        text-align: right;\n",
              "    }\n",
              "</style>\n",
              "<table border=\"1\" class=\"dataframe\">\n",
              "  <thead>\n",
              "    <tr style=\"text-align: right;\">\n",
              "      <th></th>\n",
              "      <th>Total Customers</th>\n",
              "    </tr>\n",
              "  </thead>\n",
              "  <tbody>\n",
              "    <tr>\n",
              "      <th>count</th>\n",
              "      <td>3.000000</td>\n",
              "    </tr>\n",
              "    <tr>\n",
              "      <th>mean</th>\n",
              "      <td>2347.666667</td>\n",
              "    </tr>\n",
              "    <tr>\n",
              "      <th>std</th>\n",
              "      <td>787.564812</td>\n",
              "    </tr>\n",
              "    <tr>\n",
              "      <th>min</th>\n",
              "      <td>1526.000000</td>\n",
              "    </tr>\n",
              "    <tr>\n",
              "      <th>25%</th>\n",
              "      <td>1973.500000</td>\n",
              "    </tr>\n",
              "    <tr>\n",
              "      <th>50%</th>\n",
              "      <td>2421.000000</td>\n",
              "    </tr>\n",
              "    <tr>\n",
              "      <th>75%</th>\n",
              "      <td>2758.500000</td>\n",
              "    </tr>\n",
              "    <tr>\n",
              "      <th>max</th>\n",
              "      <td>3096.000000</td>\n",
              "    </tr>\n",
              "  </tbody>\n",
              "</table>\n",
              "</div>\n",
              "      <button class=\"colab-df-convert\" onclick=\"convertToInteractive('df-d1ceb837-06b2-4fd1-b041-fd29be1a0df0')\"\n",
              "              title=\"Convert this dataframe to an interactive table.\"\n",
              "              style=\"display:none;\">\n",
              "        \n",
              "  <svg xmlns=\"http://www.w3.org/2000/svg\" height=\"24px\"viewBox=\"0 0 24 24\"\n",
              "       width=\"24px\">\n",
              "    <path d=\"M0 0h24v24H0V0z\" fill=\"none\"/>\n",
              "    <path d=\"M18.56 5.44l.94 2.06.94-2.06 2.06-.94-2.06-.94-.94-2.06-.94 2.06-2.06.94zm-11 1L8.5 8.5l.94-2.06 2.06-.94-2.06-.94L8.5 2.5l-.94 2.06-2.06.94zm10 10l.94 2.06.94-2.06 2.06-.94-2.06-.94-.94-2.06-.94 2.06-2.06.94z\"/><path d=\"M17.41 7.96l-1.37-1.37c-.4-.4-.92-.59-1.43-.59-.52 0-1.04.2-1.43.59L10.3 9.45l-7.72 7.72c-.78.78-.78 2.05 0 2.83L4 21.41c.39.39.9.59 1.41.59.51 0 1.02-.2 1.41-.59l7.78-7.78 2.81-2.81c.8-.78.8-2.07 0-2.86zM5.41 20L4 18.59l7.72-7.72 1.47 1.35L5.41 20z\"/>\n",
              "  </svg>\n",
              "      </button>\n",
              "      \n",
              "  <style>\n",
              "    .colab-df-container {\n",
              "      display:flex;\n",
              "      flex-wrap:wrap;\n",
              "      gap: 12px;\n",
              "    }\n",
              "\n",
              "    .colab-df-convert {\n",
              "      background-color: #E8F0FE;\n",
              "      border: none;\n",
              "      border-radius: 50%;\n",
              "      cursor: pointer;\n",
              "      display: none;\n",
              "      fill: #1967D2;\n",
              "      height: 32px;\n",
              "      padding: 0 0 0 0;\n",
              "      width: 32px;\n",
              "    }\n",
              "\n",
              "    .colab-df-convert:hover {\n",
              "      background-color: #E2EBFA;\n",
              "      box-shadow: 0px 1px 2px rgba(60, 64, 67, 0.3), 0px 1px 3px 1px rgba(60, 64, 67, 0.15);\n",
              "      fill: #174EA6;\n",
              "    }\n",
              "\n",
              "    [theme=dark] .colab-df-convert {\n",
              "      background-color: #3B4455;\n",
              "      fill: #D2E3FC;\n",
              "    }\n",
              "\n",
              "    [theme=dark] .colab-df-convert:hover {\n",
              "      background-color: #434B5C;\n",
              "      box-shadow: 0px 1px 3px 1px rgba(0, 0, 0, 0.15);\n",
              "      filter: drop-shadow(0px 1px 2px rgba(0, 0, 0, 0.3));\n",
              "      fill: #FFFFFF;\n",
              "    }\n",
              "  </style>\n",
              "\n",
              "      <script>\n",
              "        const buttonEl =\n",
              "          document.querySelector('#df-d1ceb837-06b2-4fd1-b041-fd29be1a0df0 button.colab-df-convert');\n",
              "        buttonEl.style.display =\n",
              "          google.colab.kernel.accessAllowed ? 'block' : 'none';\n",
              "\n",
              "        async function convertToInteractive(key) {\n",
              "          const element = document.querySelector('#df-d1ceb837-06b2-4fd1-b041-fd29be1a0df0');\n",
              "          const dataTable =\n",
              "            await google.colab.kernel.invokeFunction('convertToInteractive',\n",
              "                                                     [key], {});\n",
              "          if (!dataTable) return;\n",
              "\n",
              "          const docLinkHtml = 'Like what you see? Visit the ' +\n",
              "            '<a target=\"_blank\" href=https://colab.research.google.com/notebooks/data_table.ipynb>data table notebook</a>'\n",
              "            + ' to learn more about interactive tables.';\n",
              "          element.innerHTML = '';\n",
              "          dataTable['output_type'] = 'display_data';\n",
              "          await google.colab.output.renderOutput(dataTable, element);\n",
              "          const docLink = document.createElement('div');\n",
              "          docLink.innerHTML = docLinkHtml;\n",
              "          element.appendChild(docLink);\n",
              "        }\n",
              "      </script>\n",
              "    </div>\n",
              "  </div>\n",
              "  "
            ],
            "application/vnd.google.colaboratory.module+javascript": "\n      import \"https://ssl.gstatic.com/colaboratory/data_table/81f25a011006ed3d/data_table.js\";\n\n      window.createDataTable({\n        data: [[\"count\",\n{\n            'v': 3.0,\n            'f': \"3.0\",\n        }],\n [\"mean\",\n{\n            'v': 2347.6666666666665,\n            'f': \"2347.6666666666665\",\n        }],\n [\"std\",\n{\n            'v': 787.564812147758,\n            'f': \"787.564812147758\",\n        }],\n [\"min\",\n{\n            'v': 1526.0,\n            'f': \"1526.0\",\n        }],\n [\"25%\",\n{\n            'v': 1973.5,\n            'f': \"1973.5\",\n        }],\n [\"50%\",\n{\n            'v': 2421.0,\n            'f': \"2421.0\",\n        }],\n [\"75%\",\n{\n            'v': 2758.5,\n            'f': \"2758.5\",\n        }],\n [\"max\",\n{\n            'v': 3096.0,\n            'f': \"3096.0\",\n        }]],\n        columns: [[\"string\", \"index\"], [\"number\", \"Total Customers\"]],\n        columnOptions: [{\"width\": \"1px\", \"className\": \"index_column\"}],\n        rowsPerPage: 25,\n        helpUrl: \"https://colab.research.google.com/notebooks/data_table.ipynb\",\n        suppressOutputScrolling: true,\n        minimumWidth: undefined,\n      });\n    "
          },
          "metadata": {},
          "execution_count": 101
        }
      ]
    },
    {
      "cell_type": "code",
      "metadata": {
        "id": "BOsQhCu12hjb",
        "colab": {
          "base_uri": "https://localhost:8080/"
        },
        "outputId": "9ad02974-4e25-46fd-9690-65da9d015140"
      },
      "source": [
        "#Number of rows and columns in the dataset\n",
        "df.shape"
      ],
      "execution_count": 102,
      "outputs": [
        {
          "output_type": "execute_result",
          "data": {
            "text/plain": [
              "(3, 3)"
            ]
          },
          "metadata": {},
          "execution_count": 102
        }
      ]
    },
    {
      "cell_type": "code",
      "metadata": {
        "id": "Mci39_kK3skW",
        "colab": {
          "base_uri": "https://localhost:8080/"
        },
        "outputId": "094d04be-5118-4467-b55b-b651015a7d05"
      },
      "source": [
        "#Columns of the dataset\n",
        "df.columns "
      ],
      "execution_count": 103,
      "outputs": [
        {
          "output_type": "execute_result",
          "data": {
            "text/plain": [
              "Index(['Internet Service Type', ' MonthlyCharges ', 'Total Customers'], dtype='object')"
            ]
          },
          "metadata": {},
          "execution_count": 103
        }
      ]
    },
    {
      "cell_type": "markdown",
      "metadata": {
        "id": "HXftEIHh8l3n"
      },
      "source": [
        "## **Data Visualization as Heat Map**"
      ]
    },
    {
      "cell_type": "code",
      "source": [
        "sns.heatmap(df.corr())"
      ],
      "metadata": {
        "id": "W90HAfD9vGp5",
        "colab": {
          "base_uri": "https://localhost:8080/",
          "height": 287
        },
        "outputId": "be86a138-1fa5-42ac-abf2-de0919ed5b07"
      },
      "execution_count": 104,
      "outputs": [
        {
          "output_type": "execute_result",
          "data": {
            "text/plain": [
              "<matplotlib.axes._subplots.AxesSubplot at 0x7fbf72b3a650>"
            ]
          },
          "metadata": {},
          "execution_count": 104
        },
        {
          "output_type": "display_data",
          "data": {
            "text/plain": [
              "<Figure size 432x288 with 2 Axes>"
            ],
            "image/png": "[encoded data removed]"
          },
          "metadata": {
            "needs_background": "light"
          }
        }
      ]
    }
  ]
}